{
 "cells": [
  {
   "cell_type": "code",
   "execution_count": 1,
   "id": "5c7f88ec",
   "metadata": {},
   "outputs": [],
   "source": [
    "import os\n",
    "from langchain.document_loaders import PyPDFLoader\n",
    "from langchain.text_splitter import CharacterTextSplitter\n",
    "from langchain_openai.embeddings import OpenAIEmbeddings\n",
    "from langchain_openai.chat_models import ChatOpenAI\n",
    "from langchain.vectorstores import Chroma\n",
    "from langchain.chains import RetrievalQA\n",
    "from langchain.llms import OpenAI\n",
    "from dotenv import load_dotenv"
   ]
  },
  {
   "cell_type": "code",
   "execution_count": 2,
   "id": "cb68bf67",
   "metadata": {},
   "outputs": [],
   "source": [
    "# Load environment variables from .env\n",
    "load_dotenv()\n",
    "import os\n",
    "openai_api_key = os.getenv(\"OPENAI_API_KEY\")"
   ]
  },
  {
   "cell_type": "code",
   "execution_count": 3,
   "id": "109a33f6",
   "metadata": {},
   "outputs": [],
   "source": [
    "# Load all PDFs in the data folder\n",
    "data_folder = '../data'\n",
    "documents = []\n",
    "for file_name in os.listdir(data_folder):\n",
    "    if file_name.endswith('.pdf'):\n",
    "        loader = PyPDFLoader(os.path.join(data_folder, file_name))\n",
    "        documents.extend(loader.load())"
   ]
  },
  {
   "cell_type": "code",
   "execution_count": 4,
   "id": "77500f5f",
   "metadata": {},
   "outputs": [],
   "source": [
    "# Split text into manageable chunks\n",
    "text_splitter = CharacterTextSplitter(chunk_size=1000, chunk_overlap=200)\n",
    "docs = text_splitter.split_documents(documents)"
   ]
  },
  {
   "cell_type": "code",
   "execution_count": 5,
   "id": "ef1a92dd",
   "metadata": {},
   "outputs": [],
   "source": [
    "# Split text into manageable chunks\n",
    "text_splitter = CharacterTextSplitter(chunk_size=1000, chunk_overlap=200)\n",
    "docs = text_splitter.split_documents(documents)"
   ]
  },
  {
   "cell_type": "code",
   "execution_count": 6,
   "id": "f4b5c85b",
   "metadata": {},
   "outputs": [],
   "source": [
    "# Create embeddings and vector store\n",
    "embeddings = OpenAIEmbeddings(openai_api_key=openai_api_key)\n",
    "vectorstore = Chroma.from_documents(docs, embeddings)"
   ]
  },
  {
   "cell_type": "code",
   "execution_count": 7,
   "id": "9d0fd7c0",
   "metadata": {},
   "outputs": [],
   "source": [
    "# Set up the LLM and Retrieval-based QA chain\n",
    "llm = ChatOpenAI(model=\"gpt-4\", openai_api_key=openai_api_key)\n",
    "qa_chain = RetrievalQA.from_chain_type(llm=llm, retriever=vectorstore.as_retriever())"
   ]
  },
  {
   "cell_type": "code",
   "execution_count": null,
   "id": "85d9c7b2",
   "metadata": {},
   "outputs": [],
   "source": [
    "# Chatbot interaction\n",
    "while True:\n",
    "    query = input(\"Ask a question about CTSE lecture notes: \")\n",
    "    if query.lower() == \"exit\":\n",
    "        break\n",
    "    try:\n",
    "        response = qa_chain.invoke({\"query\": query})\n",
    "        print(f\"Answer: {response['result']}\")\n",
    "    except Exception as e:\n",
    "        print(f\"An error occurred: {e}\")"
   ]
  }
 ],
 "metadata": {
  "kernelspec": {
   "display_name": "Python (ctse-chatbot)",
   "language": "python",
   "name": "ctse-chatbot"
  },
  "language_info": {
   "codemirror_mode": {
    "name": "ipython",
    "version": 3
   },
   "file_extension": ".py",
   "mimetype": "text/x-python",
   "name": "python",
   "nbconvert_exporter": "python",
   "pygments_lexer": "ipython3",
   "version": "3.10.4"
  }
 },
 "nbformat": 4,
 "nbformat_minor": 5
}
